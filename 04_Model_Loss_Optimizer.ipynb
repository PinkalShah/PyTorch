{
 "metadata": {
  "language_info": {
   "codemirror_mode": {
    "name": "ipython",
    "version": 3
   },
   "file_extension": ".py",
   "mimetype": "text/x-python",
   "name": "python",
   "nbconvert_exporter": "python",
   "pygments_lexer": "ipython3",
   "version": "3.8.5-final"
  },
  "orig_nbformat": 2,
  "kernelspec": {
   "name": "python385jvsc74a57bd0ad608067e5480fdd886aef5f07e2750a4d3978c4319c0d6b7f4359f4688e00e7",
   "display_name": "Python 3.8.5 64-bit ('Udemy_DL': conda)"
  }
 },
 "nbformat": 4,
 "nbformat_minor": 2,
 "cells": [
  {
   "source": [
    "## Pipeline\n",
    "### 1. Pattern (Input, Output, Forward pass)\n",
    "### 2. Conmpute Loss and Optimizer\n",
    "### 3. Training Loop\n",
    "#### 3.1 Forward pass: Compute Gradient\n",
    "#### 3.2 Backward pass: Gradients\n",
    "#### 3.3 Update Weights"
   ],
   "cell_type": "markdown",
   "metadata": {}
  },
  {
   "cell_type": "code",
   "execution_count": 29,
   "metadata": {},
   "outputs": [],
   "source": [
    "import torch\n",
    "import torch.nn as nn"
   ]
  },
  {
   "cell_type": "code",
   "execution_count": 30,
   "metadata": {},
   "outputs": [
    {
     "output_type": "stream",
     "name": "stdout",
     "text": [
      "4 1\n"
     ]
    }
   ],
   "source": [
    "X = torch.tensor([[1], [2], [3], [4]], dtype=torch.float32)\n",
    "Y = torch.tensor([[2], [4], [6], [8]], dtype=torch.float32)\n",
    "#w = torch.tensor(0.0, dtype=torch.float32, requires_grad=True)\n",
    "\n",
    "X_test = torch.tensor([5], dtype=torch.float32)\n",
    "n_sample, n_features = X.shape\n",
    "print(n_sample, n_features)"
   ]
  },
  {
   "cell_type": "code",
   "execution_count": 31,
   "metadata": {},
   "outputs": [],
   "source": [
    "\"\"\" def forward(x):\n",
    "    return w * x \"\"\"\n",
    "input_size = n_features\n",
    "output_size = n_features\n",
    "#model = nn.Linear(input_size, output_size)"
   ]
  },
  {
   "cell_type": "code",
   "execution_count": 32,
   "metadata": {},
   "outputs": [],
   "source": [
    "class LinearRegression(nn.Module):\n",
    "    def __init__(self, input_dim, output_dim):\n",
    "        super(LinearRegression, self).__init__()\n",
    "\n",
    "        self.lin = nn.Linear(input_dim, output_dim)\n",
    "\n",
    "    def forward(self, x):\n",
    "        return self.lin(x)\n",
    "model = LinearRegression(input_size, output_size)"
   ]
  },
  {
   "cell_type": "code",
   "execution_count": 33,
   "metadata": {},
   "outputs": [
    {
     "output_type": "stream",
     "name": "stdout",
     "text": [
      "Prediction before tranining: f(5) = -0.891\n",
      "epoch 1: w = -0.017, loss = 32.4776725769\n",
      "epoch 101: w = 1.652, loss = 0.1758078933\n",
      "epoch 201: w = 1.742, loss = 0.0965164304\n",
      "epoch 301: w = 1.809, loss = 0.0529862866\n",
      "epoch 401: w = 1.858, loss = 0.0290888511\n",
      "epoch 501: w = 1.895, loss = 0.0159694292\n",
      "epoch 601: w = 1.922, loss = 0.0087670172\n",
      "epoch 701: w = 1.942, loss = 0.0048129815\n",
      "epoch 801: w = 1.957, loss = 0.0026422706\n",
      "epoch 901: w = 1.968, loss = 0.0014505747\n",
      "Prediction after tranining: f(5) = 9.883\n"
     ]
    }
   ],
   "source": [
    "print(f'Prediction before tranining: f(5) = {model(X_test).item():.3f}')\n",
    "# Training\n",
    "lr = 0.01\n",
    "epochs = 1000\n",
    "loss = nn.MSELoss()\n",
    "optimizer = torch.optim.SGD(model.parameters(), lr = lr)\n",
    "\n",
    "for epoch in range(epochs):\n",
    "    # Forward pass\n",
    "    y_pred = model(X)\n",
    "\n",
    "    # Compute loss\n",
    "    l = loss(Y, y_pred)\n",
    "\n",
    "    # Backward pass\n",
    "    l.backward()\n",
    "\n",
    "    # Update weights\n",
    "    optimizer.step()\n",
    "\n",
    "    # Zero Grad\n",
    "    optimizer.zero_grad()\n",
    "\n",
    "    # Printing Epoch values\n",
    "    if epoch % 100 == 0:\n",
    "        [w, b] = model.parameters()\n",
    "        print(f'epoch {epoch+1}: w = {w[0][0].item():.3f}, loss = {l:.10f}')\n",
    "\n",
    "\n",
    "print(f'Prediction after tranining: f(5) = {forward(X_test).item():.3f}')"
   ]
  },
  {
   "cell_type": "code",
   "execution_count": null,
   "metadata": {},
   "outputs": [],
   "source": []
  }
 ]
}